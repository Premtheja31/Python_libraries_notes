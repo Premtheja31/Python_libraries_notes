{
  "nbformat": 4,
  "nbformat_minor": 0,
  "metadata": {
    "colab": {
      "provenance": []
    },
    "kernelspec": {
      "name": "python3",
      "display_name": "Python 3"
    },
    "language_info": {
      "name": "python"
    }
  },
  "cells": [
    {
      "cell_type": "code",
      "execution_count": 1,
      "metadata": {
        "id": "foTrk5wIGTsq"
      },
      "outputs": [],
      "source": [
        "import numpy as np\n",
        "import pandas as pd\n",
        "import matplotlib.pyplot as plt\n"
      ]
    },
    {
      "cell_type": "code",
      "source": [
        "age=np.random.randint(1,100,70)\n"
      ],
      "metadata": {
        "id": "v6ZZ4JwCiRTN"
      },
      "execution_count": 2,
      "outputs": []
    },
    {
      "cell_type": "code",
      "source": [
        "plt.hist(age,edgecolor=\"blue\",bins=10)\n",
        "plt.show()\n",
        "age"
      ],
      "metadata": {
        "colab": {
          "base_uri": "https://localhost:8080/",
          "height": 352
        },
        "id": "rFkP92PoibOR",
        "outputId": "0ddaecfa-1b0b-4694-d18d-2914db4f9f0e"
      },
      "execution_count": 8,
      "outputs": [
        {
          "output_type": "display_data",
          "data": {
            "text/plain": [
              "<Figure size 432x288 with 1 Axes>"
            ],
            "image/png": "[encoded data removed]"
          },
          "metadata": {
            "needs_background": "light"
          }
        },
        {
          "output_type": "execute_result",
          "data": {
            "text/plain": [
              "array([47, 93, 88, 67,  9, 91, 66, 24, 26, 64,  4, 97, 14, 72, 32, 87, 11,\n",
              "       80, 51, 12, 40, 13,  3, 47, 50,  2, 80, 91, 32, 33, 81, 94, 22, 57,\n",
              "       28, 71, 36,  7, 66, 46, 92, 10, 59, 71, 94,  6, 60, 35, 13, 89, 33,\n",
              "       20, 86, 98, 94, 52,  8, 46, 92,  1, 65, 78, 99, 23, 24, 54, 66, 34,\n",
              "       98, 90])"
            ]
          },
          "metadata": {},
          "execution_count": 8
        }
      ]
    }
  ]
}