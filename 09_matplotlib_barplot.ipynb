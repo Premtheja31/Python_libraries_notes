{
  "nbformat": 4,
  "nbformat_minor": 0,
  "metadata": {
    "colab": {
      "provenance": []
    },
    "kernelspec": {
      "name": "python3",
      "display_name": "Python 3"
    },
    "language_info": {
      "name": "python"
    }
  },
  "cells": [
    {
      "cell_type": "code",
      "execution_count": null,
      "metadata": {
        "id": "vT1YHHfgOqf7"
      },
      "outputs": [],
      "source": [
        "import numpy as np\n",
        "import pandas as pd\n",
        "import matplotlib.pyplot as plt\n",
        "%matplotlib inline"
      ]
    },
    {
      "cell_type": "code",
      "source": [
        "pro_categ = np.array([\"furniture\", \"Office supplies\",\"technology\"])\n",
        "sales=np.array([4110451.90,4744557.50,3787492.52])\n",
        "pro_categ,sales"
      ],
      "metadata": {
        "colab": {
          "base_uri": "https://localhost:8080/"
        },
        "id": "aC3L3FUyQq69",
        "outputId": "6fa54dbf-99c3-415e-cab1-7e295a8132d6"
      },
      "execution_count": null,
      "outputs": [
        {
          "output_type": "execute_result",
          "data": {
            "text/plain": [
              "(array(['furniture', 'Office supplies', 'technology'], dtype='<U15'),\n",
              " array([4110451.9 , 4744557.5 , 3787492.52]))"
            ]
          },
          "metadata": {},
          "execution_count": 6
        }
      ]
    },
    {
      "cell_type": "code",
      "source": [
        "plt.bar(pro_categ,sales)"
      ],
      "metadata": {
        "colab": {
          "base_uri": "https://localhost:8080/",
          "height": 293
        },
        "id": "LgFxBnADQ_fj",
        "outputId": "78c5a234-3f20-4a7b-b187-8f860aa8997f"
      },
      "execution_count": null,
      "outputs": [
        {
          "output_type": "execute_result",
          "data": {
            "text/plain": [
              "<BarContainer object of 3 artists>"
            ]
          },
          "metadata": {},
          "execution_count": 7
        },
        {
          "output_type": "display_data",
          "data": {
            "text/plain": [
              "<Figure size 432x288 with 1 Axes>"
            ],
            "image/png": "[encoded data removed]"
          },
          "metadata": {
            "needs_background": "light"
          }
        }
      ]
    },
    {
      "cell_type": "code",
      "source": [
        "days=np.array([\"mon\",\"tue\",\"wed\",\"thur\",\"fri\"])\n",
        "number=np.array([5,6,3,7,1])\n",
        "plt.bar(days,number)\n",
        "plt.show()"
      ],
      "metadata": {
        "colab": {
          "base_uri": "https://localhost:8080/",
          "height": 265
        },
        "id": "r7M3TYS3Sc1y",
        "outputId": "0cb2d19d-5f90-48b0-eb60-fd8f7de07cad"
      },
      "execution_count": null,
      "outputs": [
        {
          "output_type": "display_data",
          "data": {
            "text/plain": [
              "<Figure size 432x288 with 1 Axes>"
            ],
            "image/png": "[encoded data removed]"
          },
          "metadata": {
            "needs_background": "light"
          }
        }
      ]
    },
    {
      "cell_type": "code",
      "source": [
        "days=np.array([\"mon\",\"tue\",\"wed\",\"thur\",\"fri\"])\n",
        "number=np.array([5,6,3,7,1])\n",
        "plt.bar(days,number)\n",
        "plt.title(\"working hours in a day\")\n",
        "plt.xlabel(\"no.of days\")\n",
        "plt.ylabel(\"number of working hours\")\n",
        "plt.show()"
      ],
      "metadata": {
        "colab": {
          "base_uri": "https://localhost:8080/",
          "height": 295
        },
        "id": "P0caVFABT7gr",
        "outputId": "c0d84c22-d9ab-4463-93fc-3ab33532330b"
      },
      "execution_count": null,
      "outputs": [
        {
          "output_type": "display_data",
          "data": {
            "text/plain": [
              "<Figure size 432x288 with 1 Axes>"
            ],
            "image/png": "[encoded data removed]"
          },
          "metadata": {
            "needs_background": "light"
          }
        }
      ]
    },
    {
      "cell_type": "code",
      "source": [
        "pro_categ = np.array([\"furniture\", \"Office supplies\",\"technology\"])\n",
        "sales=np.array([4110451.90,4744557.50,3787492.52])\n",
        "pro_categ,sales"
      ],
      "metadata": {
        "colab": {
          "base_uri": "https://localhost:8080/"
        },
        "id": "Df6pm9EhWHeU",
        "outputId": "01039da7-f765-40d4-fd31-4747ab5920a0"
      },
      "execution_count": null,
      "outputs": [
        {
          "output_type": "execute_result",
          "data": {
            "text/plain": [
              "(array(['furniture', 'Office supplies', 'technology'], dtype='<U15'),\n",
              " array([4110451.9 , 4744557.5 , 3787492.52]))"
            ]
          },
          "metadata": {},
          "execution_count": 12
        }
      ]
    },
    {
      "cell_type": "code",
      "source": [
        "tick_values=np.arange(0,700000,100000)\n",
        "tick_labels=[str(i)+\"L\" for i in range(0,8)]\n",
        "plt.bar(pro_categ,sales,color=[\"red\",\"blue\",\"orange\",\"yellow\"],edgecolor=\"purple\")\n",
        "plt.yticks(tick_values,tick_labels)\n",
        "plt.show()\n"
      ],
      "metadata": {
        "colab": {
          "base_uri": "https://localhost:8080/",
          "height": 265
        },
        "id": "cnx1y8lZWPnN",
        "outputId": "14bf40a2-71c5-4e35-db1e-9a30345d0bba"
      },
      "execution_count": null,
      "outputs": [
        {
          "output_type": "display_data",
          "data": {
            "text/plain": [
              "<Figure size 432x288 with 1 Axes>"
            ],
            "image/png": "[encoded data removed]"
          },
          "metadata": {
            "needs_background": "light"
          }
        }
      ]
    }
  ]
}