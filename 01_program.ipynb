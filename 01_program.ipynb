{
  "nbformat": 4,
  "nbformat_minor": 0,
  "metadata": {
    "colab": {
      "provenance": []
    },
    "kernelspec": {
      "name": "python3",
      "display_name": "Python 3"
    },
    "language_info": {
      "name": "python"
    }
  },
  "cells": [
    {
      "cell_type": "markdown",
      "source": [
        "# basic python program"
      ],
      "metadata": {
        "id": "eDRV0wYwGu09"
      }
    },
    {
      "cell_type": "markdown",
      "source": [
        "arithmetic op"
      ],
      "metadata": {
        "id": "DtosLokuHF1p"
      }
    },
    {
      "cell_type": "code",
      "execution_count": null,
      "metadata": {
        "colab": {
          "base_uri": "https://localhost:8080/"
        },
        "id": "f4iRvy57GP-k",
        "outputId": "9e4214ba-bb01-4dc4-e30d-8024cdf4abe1"
      },
      "outputs": [
        {
          "output_type": "execute_result",
          "data": {
            "text/plain": [
              "[0, 1, 2, 3, 4, 5, 6, 7, 8, 9]"
            ]
          },
          "metadata": {},
          "execution_count": 1
        }
      ],
      "source": [
        "[i for i in range(10)]"
      ]
    },
    {
      "cell_type": "code",
      "source": [
        "import numpy as np"
      ],
      "metadata": {
        "id": "mt4ohKQNQmpa"
      },
      "execution_count": null,
      "outputs": []
    },
    {
      "cell_type": "code",
      "source": [
        "import imutils"
      ],
      "metadata": {
        "id": "P0PCeDxUQrym"
      },
      "execution_count": null,
      "outputs": []
    },
    {
      "cell_type": "code",
      "source": [
        "dir(imutils)"
      ],
      "metadata": {
        "id": "16Dl7EnoQwEC",
        "outputId": "fb967d3a-00ed-4f22-8311-3deaa2002ec7",
        "colab": {
          "base_uri": "https://localhost:8080/"
        }
      },
      "execution_count": null,
      "outputs": [
        {
          "output_type": "execute_result",
          "data": {
            "text/plain": [
              "['__builtins__',\n",
              " '__cached__',\n",
              " '__doc__',\n",
              " '__file__',\n",
              " '__loader__',\n",
              " '__name__',\n",
              " '__package__',\n",
              " '__path__',\n",
              " '__spec__',\n",
              " '__version__',\n",
              " 'adjust_brightness_contrast',\n",
              " 'auto_canny',\n",
              " 'build_montages',\n",
              " 'check_opencv_version',\n",
              " 'convenience',\n",
              " 'find_function',\n",
              " 'grab_contours',\n",
              " 'is_cv2',\n",
              " 'is_cv3',\n",
              " 'is_cv4',\n",
              " 'meta',\n",
              " 'opencv2matplotlib',\n",
              " 'resize',\n",
              " 'rotate',\n",
              " 'rotate_bound',\n",
              " 'skeletonize',\n",
              " 'translate',\n",
              " 'url_to_image']"
            ]
          },
          "metadata": {},
          "execution_count": 4
        }
      ]
    },
    {
      "cell_type": "code",
      "source": [
        "print(\"a\")"
      ],
      "metadata": {
        "colab": {
          "base_uri": "https://localhost:8080/"
        },
        "id": "oUvCayY8HMwl",
        "outputId": "2dafe31d-0532-4373-d5f3-ee843c3bd7fd"
      },
      "execution_count": null,
      "outputs": [
        {
          "output_type": "stream",
          "name": "stdout",
          "text": [
            "a\n"
          ]
        }
      ]
    },
    {
      "cell_type": "code",
      "source": [
        "for i in range(10):\n",
        "  print(i)"
      ],
      "metadata": {
        "colab": {
          "base_uri": "https://localhost:8080/"
        },
        "id": "l_2EP4RQH6aM",
        "outputId": "dc768b56-09e7-4cc9-eb0d-0ff09b638f59"
      },
      "execution_count": null,
      "outputs": [
        {
          "output_type": "stream",
          "name": "stdout",
          "text": [
            "0\n",
            "1\n",
            "2\n",
            "3\n",
            "4\n",
            "5\n",
            "6\n",
            "7\n",
            "8\n",
            "9\n"
          ]
        }
      ]
    },
    {
      "cell_type": "code",
      "source": [
        "a=10"
      ],
      "metadata": {
        "id": "aD5vukEZGc3s"
      },
      "execution_count": null,
      "outputs": []
    },
    {
      "cell_type": "code",
      "source": [
        "a"
      ],
      "metadata": {
        "colab": {
          "base_uri": "https://localhost:8080/"
        },
        "id": "-ZH1QB1LGd0i",
        "outputId": "c73e3550-27a6-4b4c-e301-1064d4a5c3b4"
      },
      "execution_count": null,
      "outputs": [
        {
          "output_type": "execute_result",
          "data": {
            "text/plain": [
              "10"
            ]
          },
          "metadata": {},
          "execution_count": 27
        }
      ]
    },
    {
      "cell_type": "code",
      "source": [],
      "metadata": {
        "id": "b0Y6kVnOGe3D"
      },
      "execution_count": null,
      "outputs": []
    }
  ]
}